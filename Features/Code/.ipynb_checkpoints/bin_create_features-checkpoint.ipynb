{
 "cells": [
  {
   "cell_type": "markdown",
   "metadata": {},
   "source": [
    "This code create features from weather and taxi data (saved as pickle files) for a month (note: change the month name in the code.)\n",
    "Both the weather and taxi data are sorted by timestamp, binned in equal time intervals  (3 hour)and concatenated in the same\n",
    "dataframe. The dataframes for each month are stored as pickle objects."
   ]
  },
  {
   "cell_type": "code",
   "execution_count": 148,
   "metadata": {
    "collapsed": true
   },
   "outputs": [],
   "source": [
    "import pandas as pd\n",
    "import numpy as np\n",
    "import pickle\n",
    "import glob\n",
    "from datetime import datetime as dt"
   ]
  },
  {
   "cell_type": "code",
   "execution_count": 149,
   "metadata": {
    "collapsed": true
   },
   "outputs": [],
   "source": [
    "output_path = \"../Data/\"\n",
    "output_file = \"december.p\""
   ]
  },
  {
   "cell_type": "markdown",
   "metadata": {},
   "source": [
    "#### Taxi Data"
   ]
  },
  {
   "cell_type": "code",
   "execution_count": 150,
   "metadata": {
    "collapsed": false
   },
   "outputs": [
    {
     "data": {
      "text/plain": [
       "(723, 4)"
      ]
     },
     "execution_count": 150,
     "metadata": {},
     "output_type": "execute_result"
    }
   ],
   "source": [
    "tpath = \"../../Taxi/CleanData/\"\n",
    "december_files = glob.glob(tpath+'*december*')\n",
    "\n",
    "t_shape0 = []\n",
    "\n",
    "t_feature_df = pd.DataFrame()\n",
    "\n",
    "for tfile in december_files:\n",
    "    with open(tfile, 'rb') as picklefile: \n",
    "        t_df = pickle.load(picklefile)\n",
    "        \n",
    "    t_df['trip_count'] = 1\n",
    "    t_df = t_df[['trip_datetime','trip_count']]    \n",
    "    t_df.index = t_df['trip_datetime']\n",
    "    t_df_binned = t_df.resample('3H').sum().reset_index()\n",
    "    \n",
    "    hour_tag = []\n",
    "    wkday_tag = []\n",
    "    datetime_list = t_df_binned['trip_datetime'].tolist()\n",
    "    for dt in datetime_list:\n",
    "        hour_tag.append(dt.hour)\n",
    "        wkday_tag.append(dt.weekday())\n",
    "    t_df_binned['hour_tag'] = hour_tag\n",
    "    t_df_binned['wkday_tag'] = wkday_tag\n",
    "    \n",
    "    t_shape0.append(t_df_binned.shape[0])\n",
    "    \n",
    "    t_feature_df = pd.concat([t_feature_df, t_df_binned], axis=0)\n",
    "        \n",
    "t_feature_df.shape   "
   ]
  },
  {
   "cell_type": "code",
   "execution_count": 151,
   "metadata": {
    "collapsed": false
   },
   "outputs": [
    {
     "data": {
      "text/html": [
       "<div>\n",
       "<table border=\"1\" class=\"dataframe\">\n",
       "  <thead>\n",
       "    <tr style=\"text-align: right;\">\n",
       "      <th></th>\n",
       "      <th>trip_datetime</th>\n",
       "      <th>trip_count</th>\n",
       "      <th>hour_tag</th>\n",
       "      <th>wkday_tag</th>\n",
       "    </tr>\n",
       "  </thead>\n",
       "  <tbody>\n",
       "    <tr>\n",
       "      <th>0</th>\n",
       "      <td>2014-12-01 00:00:00</td>\n",
       "      <td>3229</td>\n",
       "      <td>0</td>\n",
       "      <td>0</td>\n",
       "    </tr>\n",
       "    <tr>\n",
       "      <th>1</th>\n",
       "      <td>2014-12-01 03:00:00</td>\n",
       "      <td>1474</td>\n",
       "      <td>3</td>\n",
       "      <td>0</td>\n",
       "    </tr>\n",
       "    <tr>\n",
       "      <th>2</th>\n",
       "      <td>2014-12-01 06:00:00</td>\n",
       "      <td>5803</td>\n",
       "      <td>6</td>\n",
       "      <td>0</td>\n",
       "    </tr>\n",
       "    <tr>\n",
       "      <th>3</th>\n",
       "      <td>2014-12-01 09:00:00</td>\n",
       "      <td>8736</td>\n",
       "      <td>9</td>\n",
       "      <td>0</td>\n",
       "    </tr>\n",
       "    <tr>\n",
       "      <th>4</th>\n",
       "      <td>2014-12-01 12:00:00</td>\n",
       "      <td>7927</td>\n",
       "      <td>12</td>\n",
       "      <td>0</td>\n",
       "    </tr>\n",
       "    <tr>\n",
       "      <th>5</th>\n",
       "      <td>2014-12-01 15:00:00</td>\n",
       "      <td>9286</td>\n",
       "      <td>15</td>\n",
       "      <td>0</td>\n",
       "    </tr>\n",
       "    <tr>\n",
       "      <th>6</th>\n",
       "      <td>2014-12-01 18:00:00</td>\n",
       "      <td>12018</td>\n",
       "      <td>18</td>\n",
       "      <td>0</td>\n",
       "    </tr>\n",
       "    <tr>\n",
       "      <th>7</th>\n",
       "      <td>2014-12-01 21:00:00</td>\n",
       "      <td>7376</td>\n",
       "      <td>21</td>\n",
       "      <td>0</td>\n",
       "    </tr>\n",
       "    <tr>\n",
       "      <th>8</th>\n",
       "      <td>2014-12-02 00:00:00</td>\n",
       "      <td>2558</td>\n",
       "      <td>0</td>\n",
       "      <td>1</td>\n",
       "    </tr>\n",
       "    <tr>\n",
       "      <th>9</th>\n",
       "      <td>2014-12-02 03:00:00</td>\n",
       "      <td>845</td>\n",
       "      <td>3</td>\n",
       "      <td>1</td>\n",
       "    </tr>\n",
       "  </tbody>\n",
       "</table>\n",
       "</div>"
      ],
      "text/plain": [
       "        trip_datetime  trip_count  hour_tag  wkday_tag\n",
       "0 2014-12-01 00:00:00        3229         0          0\n",
       "1 2014-12-01 03:00:00        1474         3          0\n",
       "2 2014-12-01 06:00:00        5803         6          0\n",
       "3 2014-12-01 09:00:00        8736         9          0\n",
       "4 2014-12-01 12:00:00        7927        12          0\n",
       "5 2014-12-01 15:00:00        9286        15          0\n",
       "6 2014-12-01 18:00:00       12018        18          0\n",
       "7 2014-12-01 21:00:00        7376        21          0\n",
       "8 2014-12-02 00:00:00        2558         0          1\n",
       "9 2014-12-02 03:00:00         845         3          1"
      ]
     },
     "execution_count": 151,
     "metadata": {},
     "output_type": "execute_result"
    }
   ],
   "source": [
    "t_feature_df.head(10)"
   ]
  },
  {
   "cell_type": "markdown",
   "metadata": {},
   "source": [
    "#### Weather Data"
   ]
  },
  {
   "cell_type": "code",
   "execution_count": 152,
   "metadata": {
    "collapsed": false
   },
   "outputs": [],
   "source": [
    "# define data path\n",
    "wpath = \"../../Weather/ScrapedData/\"\n",
    "december_files = glob.glob(wpath+'*december*')"
   ]
  },
  {
   "cell_type": "code",
   "execution_count": 153,
   "metadata": {
    "collapsed": false
   },
   "outputs": [],
   "source": [
    "all_condition = []\n",
    "for wfile in december_files:\n",
    "    with open(wfile, 'rb') as picklefile: \n",
    "        w_df = pickle.load(picklefile)\n",
    "        all_condition = all_condition + w_df.condition.tolist()\n",
    "\n",
    "all_condition = list(set(all_condition))\n",
    "\n",
    "# create condition column names\n",
    "dummy_column_names = []\n",
    "for i in range(0, len(all_condition)):\n",
    "    dummy_column_names.append(\"c\"+str(i))"
   ]
  },
  {
   "cell_type": "code",
   "execution_count": 154,
   "metadata": {
    "collapsed": false
   },
   "outputs": [],
   "source": [
    "t_id = 0\n",
    "\n",
    "w_feature_df = pd.DataFrame()\n",
    "\n",
    "for wfile in december_files:\n",
    "    with open(wfile, 'rb') as picklefile: \n",
    "        w_df = pickle.load(picklefile)\n",
    "        \n",
    "    # separate numeric and dummy columns\n",
    "    df_num = w_df[['date_time', 'temp', 'dew', 'humidity', 'pressure',\n",
    "               'visibility', 'wind_speed', 'gust', 'precipitation']]\n",
    "    \n",
    "    df_dummy = pd.get_dummies(w_df.condition)\n",
    "    for c in all_condition:\n",
    "        if c not in df_dummy:\n",
    "            df_dummy[c] = 0\n",
    "    df_dummy.columns = dummy_column_names\n",
    "    df_dummy['date_time'] = w_df['date_time'] \n",
    "    \n",
    "    \n",
    "    #bin df_num and df_num and merge\n",
    "    df_num.index = df_num['date_time']\n",
    "    df_num_binned = df_num.resample('3H').mean().reset_index()\n",
    "    \n",
    "    df_dummy.index = df_dummy['date_time']\n",
    "    df_dummy_binned = df_dummy.resample('3H').sum().reset_index()\n",
    "    \n",
    "    extra = df_num_binned.shape[0] - t_shape0[t_id]\n",
    "    t_id = t_id+1\n",
    "    \n",
    "    df_num_binned = df_num_binned.iloc[0:df_num_binned.shape[0]-extra, :]\n",
    "    df_dummy_binned = df_dummy_binned.iloc[0:df_dummy_binned.shape[0]-extra, :]\n",
    "    del df_dummy_binned['date_time']\n",
    "    \n",
    "    merged_df = pd.concat([df_num_binned, df_dummy_binned], axis=1)\n",
    "    \n",
    "    w_feature_df = pd.concat([w_feature_df, merged_df], axis=0)  "
   ]
  },
  {
   "cell_type": "code",
   "execution_count": 155,
   "metadata": {
    "collapsed": true
   },
   "outputs": [],
   "source": [
    "all_features = pd.concat([w_feature_df, t_feature_df], axis=1)\n",
    "all_features = all_features.drop(['trip_datetime'], 1)"
   ]
  },
  {
   "cell_type": "code",
   "execution_count": 156,
   "metadata": {
    "collapsed": false
   },
   "outputs": [
    {
     "data": {
      "text/plain": [
       "Index(['date_time', 'temp', 'dew', 'humidity', 'pressure', 'visibility',\n",
       "       'wind_speed', 'gust', 'precipitation', 'c0', 'c1', 'c2', 'c3', 'c4',\n",
       "       'c5', 'c6', 'c7', 'c8', 'c9', 'c10', 'c11', 'c12', 'c13', 'c14', 'c15',\n",
       "       'c16', 'c17', 'c18', 'c19', 'trip_count', 'hour_tag', 'wkday_tag'],\n",
       "      dtype='object')"
      ]
     },
     "execution_count": 156,
     "metadata": {},
     "output_type": "execute_result"
    }
   ],
   "source": [
    "all_features.columns"
   ]
  },
  {
   "cell_type": "code",
   "execution_count": 157,
   "metadata": {
    "collapsed": true
   },
   "outputs": [],
   "source": [
    "with open(output_path+output_file, 'wb') as picklefile:\n",
    "                pickle.dump(all_features, picklefile)"
   ]
  },
  {
   "cell_type": "code",
   "execution_count": null,
   "metadata": {
    "collapsed": true
   },
   "outputs": [],
   "source": []
  },
  {
   "cell_type": "code",
   "execution_count": null,
   "metadata": {
    "collapsed": true
   },
   "outputs": [],
   "source": []
  }
 ],
 "metadata": {
  "kernelspec": {
   "display_name": "Python 3",
   "language": "python",
   "name": "python3"
  },
  "language_info": {
   "codemirror_mode": {
    "name": "ipython",
    "version": 3
   },
   "file_extension": ".py",
   "mimetype": "text/x-python",
   "name": "python",
   "nbconvert_exporter": "python",
   "pygments_lexer": "ipython3",
   "version": "3.6.0"
  },
  "latex_envs": {
   "LaTeX_envs_menu_present": true,
   "autocomplete": true,
   "bibliofile": "biblio.bib",
   "cite_by": "apalike",
   "current_citInitial": 1,
   "eqLabelWithNumbers": true,
   "eqNumInitial": 1,
   "hotkeys": {
    "equation": "Ctrl-E",
    "itemize": "Ctrl-I"
   },
   "labels_anchors": false,
   "latex_user_defs": false,
   "report_style_numbering": false,
   "user_envs_cfg": false
  }
 },
 "nbformat": 4,
 "nbformat_minor": 2
}
